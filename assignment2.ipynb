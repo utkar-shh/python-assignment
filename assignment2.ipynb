{
  "nbformat": 4,
  "nbformat_minor": 0,
  "metadata": {
    "colab": {
      "provenance": [],
      "authorship_tag": "ABX9TyOaJ0HYFCFASHWwufCb/1XP",
      "include_colab_link": true
    },
    "kernelspec": {
      "name": "python3",
      "display_name": "Python 3"
    },
    "language_info": {
      "name": "python"
    }
  },
  "cells": [
    {
      "cell_type": "markdown",
      "metadata": {
        "id": "view-in-github",
        "colab_type": "text"
      },
      "source": [
        "<a href=\"https://colab.research.google.com/github/utkar-shh/python-assignment/blob/main/assignment2.ipynb\" target=\"_parent\"><img src=\"https://colab.research.google.com/assets/colab-badge.svg\" alt=\"Open In Colab\"/></a>"
      ]
    },
    {
      "cell_type": "code",
      "source": [
        "class Student:\n",
        "    def __init__(self, name, roll_number, grades):\n",
        "        self.name = name\n",
        "        self.roll_number = roll_number\n",
        "        self.grades = grades\n",
        "\n",
        "\n",
        "class StudentInformationSystem:\n",
        "    def __init__(self):\n",
        "        self.students = []\n",
        "\n",
        "    def add_student(self, name, roll_number, grades):\n",
        "        if any(student.roll_number == roll_number for student in self.students):\n",
        "            raise ValueError(\"Roll number already exists\")\n",
        "\n",
        "        student = Student(name, roll_number, grades)\n",
        "        self.students.append(student)\n",
        "        print(f\"Student {name} added successfully\")\n",
        "\n",
        "    def update_student(self, roll_number, new_name=None, new_grades=None):\n",
        "        for student in self.students:\n",
        "            if student.roll_number == roll_number:\n",
        "                if new_name:\n",
        "                    student.name = new_name\n",
        "                if new_grades:\n",
        "                    student.grades = new_grades\n",
        "                print(f\"Student information updated for roll number {roll_number}\")\n",
        "                return\n",
        "        raise ValueError(\"Student not found\")\n",
        "\n",
        "    def display_student_details(self, roll_number):\n",
        "        for student in self.students:\n",
        "            if student.roll_number == roll_number:\n",
        "                print(f\"Name is: {student.name}\")\n",
        "                print(f\"Roll Number is: {student.roll_number}\")\n",
        "                print(f\"Grades: {student.grades}\")\n",
        "                return\n",
        "        raise ValueError(\"Student not found\")\n",
        "\n",
        "\n",
        "sis = StudentInformationSystem()\n",
        "while True:\n",
        "    print(\"\\n1. Add Student\\n2. Update Student\\n3. Display Student Details\\n4. Quit\")\n",
        "    choice = input(\"Enter your choice: \")\n",
        "\n",
        "    try:\n",
        "        if choice == '1':\n",
        "            name = input(\"Enter student name: \")\n",
        "            roll_number = input(\"Enter roll number: \")\n",
        "            grades = input(\"Enter grades separated by comma: \").split(',')\n",
        "            sis.add_student(name, roll_number, grades)\n",
        "        elif choice == '2':\n",
        "            roll_number = input(\"Enter roll number of student to update: \")\n",
        "            new_name = input(\"Enter new name (leave blank to skip): \")\n",
        "            new_grades = input(\"Enter new grades separated by comma (leave blank to skip): \").split(',')\n",
        "            sis.update_student(roll_number, new_name, new_grades)\n",
        "        elif choice == '3':\n",
        "            roll_number = input(\"Enter roll number of student to display details: \")\n",
        "            sis.display_student_details(roll_number)\n",
        "        elif choice == '4':\n",
        "            print(\"Exiting...\")\n",
        "            break\n",
        "        else:\n",
        "            print(\"Invalid choice. Please enter a valid option.\")\n",
        "    except ValueError as e:\n",
        "        print(\"Error:\", e)\n"
      ],
      "metadata": {
        "id": "yDKk-d_WV9-R",
        "outputId": "3eb47529-05e7-4324-a74e-8e2811648e87",
        "colab": {
          "base_uri": "https://localhost:8080/"
        }
      },
      "execution_count": null,
      "outputs": [
        {
          "output_type": "stream",
          "name": "stdout",
          "text": [
            "\n",
            "1. Add Student\n",
            "2. Update Student\n",
            "3. Display Student Details\n",
            "4. Quit\n",
            "Enter your choice: 1\n",
            "Enter student name: utkshf\n",
            "Enter roll number: 555\n",
            "Enter grades separated by comma: a,d,c\n",
            "Student utkshf added successfully\n",
            "\n",
            "1. Add Student\n",
            "2. Update Student\n",
            "3. Display Student Details\n",
            "4. Quit\n"
          ]
        }
      ]
    }
  ]
}