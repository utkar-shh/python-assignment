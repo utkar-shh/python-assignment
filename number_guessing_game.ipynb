{
  "nbformat": 4,
  "nbformat_minor": 0,
  "metadata": {
    "colab": {
      "provenance": [],
      "authorship_tag": "ABX9TyNP436F99Lz9g4JfE0//vMs",
      "include_colab_link": true
    },
    "kernelspec": {
      "name": "python3",
      "display_name": "Python 3"
    },
    "language_info": {
      "name": "python"
    }
  },
  "cells": [
    {
      "cell_type": "markdown",
      "metadata": {
        "id": "view-in-github",
        "colab_type": "text"
      },
      "source": [
        "<a href=\"https://colab.research.google.com/github/utkar-shh/python-assignment/blob/main/number_guessing_game.ipynb\" target=\"_parent\"><img src=\"https://colab.research.google.com/assets/colab-badge.svg\" alt=\"Open In Colab\"/></a>"
      ]
    },
    {
      "cell_type": "markdown",
      "source": [
        "NUMBER GUESSING GAME FOR PYTHON ASSIGNMENT"
      ],
      "metadata": {
        "id": "OhD-maL9WcCO"
      }
    },
    {
      "cell_type": "code",
      "source": [
        "import random\n",
        "\n",
        "lower = int(input(\"Enter Lower bound:- \"))\n",
        "upper = int(input(\"Enter Upper bound:- \"))\n",
        "n = random.randint(lower, upper)\n",
        "guess = int(input(\"Enter any number: \"))\n",
        "while n!= guess:\n",
        "    if guess < n:\n",
        "        print(\"Too low\")\n",
        "        guess = int(input(\"Enter number again: \"))\n",
        "    elif guess > n:\n",
        "        print(\"Too high!\")\n",
        "        guess = int(input(\"Enter number again: \"))\n",
        "    else:\n",
        "      break\n",
        "print(\"you guessed it right!!\")"
      ],
      "metadata": {
        "colab": {
          "base_uri": "https://localhost:8080/"
        },
        "id": "zuS6RiR0Ps1d",
        "outputId": "78c5dd00-06c6-454d-871a-1eea35581cab"
      },
      "execution_count": null,
      "outputs": [
        {
          "output_type": "stream",
          "name": "stdout",
          "text": [
            "Enter Lower bound:- 100\n",
            "Enter Upper bound:- 200\n",
            "Enter any number: 150\n",
            "Too low\n",
            "Enter number again: 175\n",
            "Too low\n",
            "Enter number again: 190\n",
            "Too low\n",
            "Enter number again: 195\n",
            "Too low\n",
            "Enter number again: 199\n",
            "Too high!\n",
            "Enter number again: 200\n",
            "Too high!\n",
            "Enter number again: 197\n",
            "you guessed it right!!\n"
          ]
        }
      ]
    }
  ]
}